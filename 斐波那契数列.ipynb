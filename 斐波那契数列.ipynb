{
 "cells": [
  {
   "cell_type": "markdown",
   "metadata": {},
   "source": [
    "### 记忆化递归 O(n)"
   ]
  },
  {
   "cell_type": "code",
   "execution_count": 8,
   "metadata": {
    "ExecuteTime": {
     "end_time": "2019-09-01T10:28:29.913296Z",
     "start_time": "2019-09-01T10:28:29.905433Z"
    }
   },
   "outputs": [],
   "source": [
    "cache = {}\n",
    "def fib(n):\n",
    "    if n in cache:\n",
    "        return cache[n]\n",
    "    \n",
    "    if n <= 1:\n",
    "        return n\n",
    "    \n",
    "    cache[n] = fib(n - 2) + fib(n - 1)\n",
    "    return cache[n]"
   ]
  },
  {
   "cell_type": "code",
   "execution_count": 9,
   "metadata": {
    "ExecuteTime": {
     "end_time": "2019-09-01T10:28:30.489526Z",
     "start_time": "2019-09-01T10:28:30.482166Z"
    }
   },
   "outputs": [
    {
     "data": {
      "text/plain": [
       "354224848179261915075"
      ]
     },
     "execution_count": 9,
     "metadata": {},
     "output_type": "execute_result"
    }
   ],
   "source": [
    "fib(100)"
   ]
  },
  {
   "cell_type": "code",
   "execution_count": 10,
   "metadata": {
    "ExecuteTime": {
     "end_time": "2019-09-01T10:28:33.950884Z",
     "start_time": "2019-09-01T10:28:31.345277Z"
    }
   },
   "outputs": [
    {
     "name": "stdout",
     "output_type": "stream",
     "text": [
      "321 ns ± 8.74 ns per loop (mean ± std. dev. of 7 runs, 1000000 loops each)\n"
     ]
    }
   ],
   "source": [
    "%timeit fib(100)"
   ]
  },
  {
   "cell_type": "code",
   "execution_count": 35,
   "metadata": {
    "ExecuteTime": {
     "end_time": "2019-09-01T11:13:09.646023Z",
     "start_time": "2019-09-01T11:12:58.257698Z"
    }
   },
   "outputs": [
    {
     "name": "stdout",
     "output_type": "stream",
     "text": [
      "14 µs ± 886 ns per loop (mean ± std. dev. of 7 runs, 100000 loops each)\n"
     ]
    }
   ],
   "source": [
    "%timeit fib(1000)"
   ]
  },
  {
   "cell_type": "markdown",
   "metadata": {},
   "source": [
    "### 迭代 O(n)"
   ]
  },
  {
   "cell_type": "code",
   "execution_count": 6,
   "metadata": {
    "ExecuteTime": {
     "end_time": "2019-09-01T10:28:04.871122Z",
     "start_time": "2019-09-01T10:28:04.861838Z"
    }
   },
   "outputs": [],
   "source": [
    "def fib(n):\n",
    "    a, b = 0, 1\n",
    "    for i in range(n):\n",
    "        a, b = b, a + b\n",
    "    return a"
   ]
  },
  {
   "cell_type": "code",
   "execution_count": 7,
   "metadata": {
    "ExecuteTime": {
     "end_time": "2019-09-01T10:28:08.632937Z",
     "start_time": "2019-09-01T10:28:08.624263Z"
    }
   },
   "outputs": [
    {
     "data": {
      "text/plain": [
       "354224848179261915075"
      ]
     },
     "execution_count": 7,
     "metadata": {},
     "output_type": "execute_result"
    }
   ],
   "source": [
    "fib(100)"
   ]
  },
  {
   "cell_type": "code",
   "execution_count": 11,
   "metadata": {
    "ExecuteTime": {
     "end_time": "2019-09-01T10:28:41.935727Z",
     "start_time": "2019-09-01T10:28:39.186791Z"
    }
   },
   "outputs": [
    {
     "name": "stdout",
     "output_type": "stream",
     "text": [
      "338 ns ± 45.8 ns per loop (mean ± std. dev. of 7 runs, 1000000 loops each)\n"
     ]
    }
   ],
   "source": [
    "%timeit fib(100)"
   ]
  },
  {
   "cell_type": "markdown",
   "metadata": {},
   "source": [
    "### LRU cache"
   ]
  },
  {
   "cell_type": "code",
   "execution_count": 14,
   "metadata": {
    "ExecuteTime": {
     "end_time": "2019-09-01T10:29:52.622314Z",
     "start_time": "2019-09-01T10:29:52.615036Z"
    }
   },
   "outputs": [],
   "source": [
    "from functools import lru_cache\n",
    "\n",
    "@lru_cache(maxsize=None)\n",
    "def fib(n):\n",
    "    if n <= 1:\n",
    "        return n\n",
    "    return fib(n - 1) + fib(n - 2)"
   ]
  },
  {
   "cell_type": "code",
   "execution_count": 16,
   "metadata": {
    "ExecuteTime": {
     "end_time": "2019-09-01T10:30:10.033073Z",
     "start_time": "2019-09-01T10:30:10.024458Z"
    }
   },
   "outputs": [
    {
     "data": {
      "text/plain": [
       "354224848179261915075"
      ]
     },
     "execution_count": 16,
     "metadata": {},
     "output_type": "execute_result"
    }
   ],
   "source": [
    "fib(100)"
   ]
  },
  {
   "cell_type": "code",
   "execution_count": 15,
   "metadata": {
    "ExecuteTime": {
     "end_time": "2019-09-01T10:30:03.017652Z",
     "start_time": "2019-09-01T10:30:01.403881Z"
    }
   },
   "outputs": [
    {
     "name": "stdout",
     "output_type": "stream",
     "text": [
      "197 ns ± 40.8 ns per loop (mean ± std. dev. of 7 runs, 1000000 loops each)\n"
     ]
    }
   ],
   "source": [
    "%timeit fib(100)"
   ]
  },
  {
   "cell_type": "markdown",
   "metadata": {},
   "source": [
    "### 函数式 O(n)"
   ]
  },
  {
   "cell_type": "code",
   "execution_count": 22,
   "metadata": {
    "ExecuteTime": {
     "end_time": "2019-09-01T10:53:38.076441Z",
     "start_time": "2019-09-01T10:53:38.067574Z"
    }
   },
   "outputs": [],
   "source": [
    "from itertools import tee, islice\n",
    "from operator import add\n",
    "\n",
    "def fibs():\n",
    "    yield 0 \n",
    "    yield 1 \n",
    "    fibs1, fibs2 = tee(fibs(), 2)\n",
    "    yield from map(add, fibs1, islice(fibs2, 1, None))"
   ]
  },
  {
   "cell_type": "code",
   "execution_count": 25,
   "metadata": {
    "ExecuteTime": {
     "end_time": "2019-09-01T10:54:20.905958Z",
     "start_time": "2019-09-01T10:54:19.427681Z"
    }
   },
   "outputs": [
    {
     "name": "stdout",
     "output_type": "stream",
     "text": [
      "1.78 ms ± 78 µs per loop (mean ± std. dev. of 7 runs, 100 loops each)\n"
     ]
    }
   ],
   "source": [
    "%%timeit \n",
    "\n",
    "itr = fibs()\n",
    "for i in range(101):\n",
    "    num = next(itr)"
   ]
  },
  {
   "cell_type": "code",
   "execution_count": 26,
   "metadata": {
    "ExecuteTime": {
     "end_time": "2019-09-01T10:54:23.271981Z",
     "start_time": "2019-09-01T10:54:23.264053Z"
    }
   },
   "outputs": [
    {
     "name": "stdout",
     "output_type": "stream",
     "text": [
      "354224848179261915075\n"
     ]
    }
   ],
   "source": [
    "print(num)"
   ]
  },
  {
   "cell_type": "code",
   "execution_count": 27,
   "metadata": {
    "ExecuteTime": {
     "end_time": "2019-09-01T10:58:14.506751Z",
     "start_time": "2019-09-01T10:58:14.495275Z"
    }
   },
   "outputs": [],
   "source": [
    "from itertools import accumulate, repeat\n",
    "\n",
    "def iterate(f, x):\n",
    "    return accumulate(repeat(x), lambda fx, _: f(fx))\n",
    "\n",
    "def next_fib(pair):\n",
    "    x, y = pair\n",
    "    return (y, x + y)\n",
    "\n",
    "def fibs():\n",
    "    return (y for x, y in iterate(next_fib, (0, 1)))"
   ]
  },
  {
   "cell_type": "code",
   "execution_count": 30,
   "metadata": {
    "ExecuteTime": {
     "end_time": "2019-09-01T10:58:58.928811Z",
     "start_time": "2019-09-01T10:58:51.570403Z"
    }
   },
   "outputs": [
    {
     "name": "stdout",
     "output_type": "stream",
     "text": [
      "92 µs ± 18.4 µs per loop (mean ± std. dev. of 7 runs, 10000 loops each)\n"
     ]
    }
   ],
   "source": [
    "%%timeit \n",
    "itr = fibs()\n",
    "for i in range(101):\n",
    "    num = next(itr)"
   ]
  },
  {
   "cell_type": "code",
   "execution_count": 31,
   "metadata": {
    "ExecuteTime": {
     "end_time": "2019-09-01T10:59:01.635422Z",
     "start_time": "2019-09-01T10:59:01.629542Z"
    }
   },
   "outputs": [
    {
     "name": "stdout",
     "output_type": "stream",
     "text": [
      "354224848179261915075\n"
     ]
    }
   ],
   "source": [
    "print(num)"
   ]
  },
  {
   "cell_type": "markdown",
   "metadata": {},
   "source": [
    "### 快速幂 O(log[n])"
   ]
  },
  {
   "cell_type": "code",
   "execution_count": 39,
   "metadata": {
    "ExecuteTime": {
     "end_time": "2019-09-01T12:00:19.707927Z",
     "start_time": "2019-09-01T12:00:19.690210Z"
    }
   },
   "outputs": [],
   "source": [
    "def fib(n):\n",
    "    assert(n >= 0)\n",
    "    return _fib(n)[0]\n",
    "\n",
    "\n",
    "def _fib(n):\n",
    "    if n == 0:\n",
    "        return (0, 1)\n",
    "\n",
    "    a, b = _fib(n // 2)\n",
    "    c = a * (2 * b - a)\n",
    "    d = a * a + b * b\n",
    "    if n % 2 == 0:\n",
    "        return (c, d)\n",
    "    return (d, c + d)"
   ]
  },
  {
   "cell_type": "code",
   "execution_count": 40,
   "metadata": {
    "ExecuteTime": {
     "end_time": "2019-09-01T12:00:27.015864Z",
     "start_time": "2019-09-01T12:00:20.163261Z"
    }
   },
   "outputs": [
    {
     "name": "stdout",
     "output_type": "stream",
     "text": [
      "8.54 µs ± 921 ns per loop (mean ± std. dev. of 7 runs, 100000 loops each)\n"
     ]
    }
   ],
   "source": [
    "%timeit fib(100)"
   ]
  },
  {
   "cell_type": "code",
   "execution_count": 41,
   "metadata": {
    "ExecuteTime": {
     "end_time": "2019-09-01T12:00:29.131381Z",
     "start_time": "2019-09-01T12:00:27.877561Z"
    }
   },
   "outputs": [
    {
     "name": "stdout",
     "output_type": "stream",
     "text": [
      "14.7 µs ± 984 ns per loop (mean ± std. dev. of 7 runs, 10000 loops each)\n"
     ]
    }
   ],
   "source": [
    "%timeit fib(1000)"
   ]
  },
  {
   "cell_type": "markdown",
   "metadata": {},
   "source": [
    "Matrix exponentiation\n",
    "\n",
    "$$\n",
    "\\left[\n",
    "\\begin{matrix}\n",
    "F(n+1) & F(n) \\\\\n",
    "F(n) & F(n-1) \\\\\n",
    "\\end{matrix}\n",
    "\\right]\n",
    "=\n",
    "\\left[\n",
    "\\begin{matrix}\n",
    "1 & 1 \\\\\n",
    "1 & 0 \\\\\n",
    "\\end{matrix}\n",
    "\\right]^n\n",
    "$$\n",
    "\n",
    "数学归纳法证明：\n",
    "\n",
    "1. $n = 1$, 有\n",
    "\n",
    "$$ \n",
    "\\left[\n",
    "\\begin{matrix}\n",
    "F(2) & F(1) \\\\\n",
    "F(1) & F(0) \\\\\n",
    "\\end{matrix}\n",
    "\\right]\n",
    "=\n",
    "\\left[\n",
    "\\begin{matrix}\n",
    "1 & 1 \\\\\n",
    "1 & 0 \\\\\n",
    "\\end{matrix}\n",
    "\\right]^1\n",
    "$$\n",
    "\n",
    "2. 假设 $n = k$ 时，有\n",
    "$$\n",
    "\\left[\n",
    "\\begin{matrix}\n",
    "F(k+1) & F(k) \\\\\n",
    "F(k) & F(k-1) \\\\\n",
    "\\end{matrix}\n",
    "\\right]\n",
    "=\n",
    "\\left[\n",
    "\\begin{matrix}\n",
    "1 & 1 \\\\\n",
    "1 & 0 \\\\\n",
    "\\end{matrix}\n",
    "\\right]^k\n",
    "$$\n",
    "那么\n",
    "$$\n",
    "\\left[\n",
    "\\begin{matrix}\n",
    "1 & 1 \\\\\n",
    "1 & 0 \\\\\n",
    "\\end{matrix}\n",
    "\\right]^{k+1}\n",
    "= \n",
    "\\left[\n",
    "\\begin{matrix}\n",
    "1 & 1 \\\\\n",
    "1 & 0 \\\\\n",
    "\\end{matrix}\n",
    "\\right]^{k}\n",
    "\\left[\n",
    "\\begin{matrix}\n",
    "1 & 1 \\\\\n",
    "1 & 0 \\\\\n",
    "\\end{matrix}\n",
    "\\right]\n",
    "= \n",
    "\\left[\n",
    "\\begin{matrix}\n",
    "F(k+1) & F(k) \\\\\n",
    "F(k) & F(k-1) \\\\\n",
    "\\end{matrix}\n",
    "\\right]\n",
    "\\left[\n",
    "\\begin{matrix}\n",
    "1 & 1 \\\\\n",
    "1 & 0 \\\\\n",
    "\\end{matrix}\n",
    "\\right]\n",
    "= \n",
    "\\left[\n",
    "\\begin{matrix}\n",
    "F(k+1) + F(k) & F(k+1) \\\\\n",
    "F(k) + F(k-1) & F(k) \\\\\n",
    "\\end{matrix}\n",
    "\\right]\n",
    "= \n",
    "\\left[\n",
    "\\begin{matrix}\n",
    "F(k+2) & F(k+1) \\\\\n",
    "F(k+1) & F(k) \\\\\n",
    "\\end{matrix}\n",
    "\\right]\n",
    "$$\n",
    "所以 $n = k+1$ 时依然成立.\n",
    "\n",
    "$$\n",
    "\\left[\n",
    "\\begin{matrix}\n",
    "F(2n+1) & F(n) \\\\\n",
    "F(2n)  & F(2n-1) \\\\\n",
    "\\end{matrix}\n",
    "\\right]\n",
    "=\n",
    "\\left[\n",
    "\\begin{matrix}\n",
    "1 & 1 \\\\\n",
    "1 & 0 \\\\\n",
    "\\end{matrix}\n",
    "\\right]^{2n}\n",
    "=\n",
    "(\n",
    "\\left[\n",
    "\\begin{matrix}\n",
    "1 & 1 \\\\\n",
    "1 & 0 \\\\\n",
    "\\end{matrix}\n",
    "\\right]^{n})^2\n",
    "= \n",
    "\\left[\n",
    "\\begin{matrix}\n",
    "F(n+1) & F(2n) \\\\\n",
    "F(n) & F(n-1) \\\\\n",
    "\\end{matrix}\n",
    "\\right]^{2}\n",
    "= \n",
    "\\left[\n",
    "\\begin{matrix}\n",
    "F(n+1)^2+F(n)^2 & F(n+1)F(n)+F(n)F(n-1) \\\\\n",
    "F(n+1)F(n)+F(n)F(n-1) & F(n)^2+F(n-1)^2 \\\\\n",
    "\\end{matrix}\n",
    "\\right]^{2n}\n",
    "$$\n",
    "\n",
    "所以\n",
    "\n",
    "$$\n",
    "F(2n + 1) =  F(n+1)^2 + F(n)^2;\n",
    "$$\n",
    "\n",
    "$$\n",
    "F(2n) =  F(n+1)F(n) + F(n)F(n-1) = F(n+1)F(n) + F(n) (F(n+1) - F(n)) = F(n)(2F(n+1)-F(n))\n",
    "$$\n",
    "\n"
   ]
  },
  {
   "cell_type": "markdown",
   "metadata": {},
   "source": [
    "```python\n",
    "def _fib(n):\n",
    "    if n == 0:\n",
    "        return (0, 1)\n",
    "\n",
    "    a, b = _fib(n // 2)\n",
    "    c = a * (2 * b - a)\n",
    "    d = a ** 2 + b ** 2\n",
    "    if n % 2 == 0:\n",
    "        return (c, d)\n",
    "    return (d, c + d)\n",
    "```\n",
    "\n",
    "$$\n",
    "F(2n) = F(n) (2F(n+1) - F(n))\n",
    "$$ \n",
    "\n",
    "$$\n",
    "F(2n+1) = F(n+1)^2 + F(n)^2\n",
    "$$"
   ]
  },
  {
   "cell_type": "code",
   "execution_count": null,
   "metadata": {},
   "outputs": [],
   "source": []
  }
 ],
 "metadata": {
  "kernelspec": {
   "display_name": "Python 3",
   "language": "python",
   "name": "python3"
  },
  "language_info": {
   "codemirror_mode": {
    "name": "ipython",
    "version": 3
   },
   "file_extension": ".py",
   "mimetype": "text/x-python",
   "name": "python",
   "nbconvert_exporter": "python",
   "pygments_lexer": "ipython3",
   "version": "3.7.3"
  },
  "varInspector": {
   "cols": {
    "lenName": 16,
    "lenType": 16,
    "lenVar": 40
   },
   "kernels_config": {
    "python": {
     "delete_cmd_postfix": "",
     "delete_cmd_prefix": "del ",
     "library": "var_list.py",
     "varRefreshCmd": "print(var_dic_list())"
    },
    "r": {
     "delete_cmd_postfix": ") ",
     "delete_cmd_prefix": "rm(",
     "library": "var_list.r",
     "varRefreshCmd": "cat(var_dic_list()) "
    }
   },
   "types_to_exclude": [
    "module",
    "function",
    "builtin_function_or_method",
    "instance",
    "_Feature"
   ],
   "window_display": false
  }
 },
 "nbformat": 4,
 "nbformat_minor": 2
}
